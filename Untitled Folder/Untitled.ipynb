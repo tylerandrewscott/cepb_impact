{
 "cells": [
  {
   "cell_type": "code",
   "execution_count": 1,
   "metadata": {},
   "outputs": [
    {
     "name": "stdout",
     "output_type": "stream",
     "text": [
      "Collecting wos\n",
      "  Downloading wos-0.2.5.tar.gz (11 kB)\n",
      "Collecting limit\n",
      "  Downloading limit-0.2.3.tar.gz (1.9 kB)\n",
      "Collecting suds-py3\n",
      "  Downloading suds-py3-1.4.4.1.tar.gz (84 kB)\n",
      "\u001b[K     |████████████████████████████████| 84 kB 3.1 MB/s eta 0:00:01\n",
      "\u001b[?25hBuilding wheels for collected packages: wos, limit, suds-py3\n",
      "  Building wheel for wos (setup.py) ... \u001b[?25ldone\n",
      "\u001b[?25h  Created wheel for wos: filename=wos-0.2.5-py3-none-any.whl size=9560 sha256=23173396f565134adc546820f1e9f7408f9f6094c9e320a9db4753e8d409e618\n",
      "  Stored in directory: /Users/tscott/Library/Caches/pip/wheels/b1/86/ad/d8e8d98a1b361142d06f42258f489bd43254c508da878e9cd1\n",
      "  Building wheel for limit (setup.py) ... \u001b[?25ldone\n",
      "\u001b[?25h  Created wheel for limit: filename=limit-0.2.3-py3-none-any.whl size=2345 sha256=b43cdab7e9e453fdb3fd28eb065035a1103a2a0ade4fa8604569cb9a0a0cb80a\n",
      "  Stored in directory: /Users/tscott/Library/Caches/pip/wheels/e6/4f/fb/1e14a0792ae1d82621fff2dc887db19674bfdf8e8de1ab6ab9\n",
      "  Building wheel for suds-py3 (setup.py) ... \u001b[?25ldone\n",
      "\u001b[?25h  Created wheel for suds-py3: filename=suds_py3-1.4.4.1-py3-none-any.whl size=295855 sha256=2890c3d868a9cc98ee07d1ff45aa5b40e26adce6bebe32346936693bb5a4d5c0\n",
      "  Stored in directory: /Users/tscott/Library/Caches/pip/wheels/1e/09/6e/ef07975b1d21431e1013fdee93903aa7ffd51af9c90995ce53\n",
      "Successfully built wos limit suds-py3\n",
      "Installing collected packages: limit, suds-py3, wos\n",
      "Successfully installed limit-0.2.3 suds-py3-1.4.4.1 wos-0.2.5\n"
     ]
    }
   ],
   "source": [
    "#!pip install wos"
   ]
  },
  {
   "cell_type": "code",
   "execution_count": 6,
   "metadata": {},
   "outputs": [],
   "source": [
    "clarivate_key = open(\"../../../clarivate_key\")\n",
    "key = clarivate_key.readline().rstrip()\n"
   ]
  },
  {
   "cell_type": "code",
   "execution_count": 12,
   "metadata": {},
   "outputs": [],
   "source": [
    "keys_file = open(\"../../../clarivate_key\")\n",
    "lines = keys_file.readlines()\n",
    "lines = [l.rstrip() for l in lines]"
   ]
  },
  {
   "cell_type": "code",
   "execution_count": 31,
   "metadata": {},
   "outputs": [
    {
     "ename": "SyntaxError",
     "evalue": "invalid syntax (<ipython-input-31-75ce9fb55105>, line 1)",
     "output_type": "error",
     "traceback": [
      "\u001b[0;36m  File \u001b[0;32m\"<ipython-input-31-75ce9fb55105>\"\u001b[0;36m, line \u001b[0;32m1\u001b[0m\n\u001b[0;31m    lines.remove[l!='' for l in lines]\u001b[0m\n\u001b[0m                       ^\u001b[0m\n\u001b[0;31mSyntaxError\u001b[0m\u001b[0;31m:\u001b[0m invalid syntax\n"
     ]
    }
   ],
   "source": [
    "lines.remove[l!='' for l in lines]"
   ]
  },
  {
   "cell_type": "code",
   "execution_count": 9,
   "metadata": {},
   "outputs": [
    {
     "data": {
      "text/plain": [
       "''"
      ]
     },
     "execution_count": 9,
     "metadata": {},
     "output_type": "execute_result"
    }
   ],
   "source": [
    "keys_file = open(\"../../../clarivate_key\")\n",
    "lines = keys_file.readlines()\n",
    "consumer_key = lines[0].rstrip()\n",
    "consumer_secret = lines[1].rstrip()\n",
    "consumer_key"
   ]
  },
  {
   "cell_type": "code",
   "execution_count": 2,
   "metadata": {},
   "outputs": [
    {
     "ename": "ModuleNotFoundError",
     "evalue": "No module named 'wos'",
     "output_type": "error",
     "traceback": [
      "\u001b[0;31m---------------------------------------------------------------------------\u001b[0m",
      "\u001b[0;31mModuleNotFoundError\u001b[0m                       Traceback (most recent call last)",
      "\u001b[0;32m<ipython-input-2-db2060b2463b>\u001b[0m in \u001b[0;36m<module>\u001b[0;34m\u001b[0m\n\u001b[0;32m----> 1\u001b[0;31m \u001b[0;32mfrom\u001b[0m \u001b[0mwos\u001b[0m \u001b[0;32mimport\u001b[0m \u001b[0mWosClient\u001b[0m\u001b[0;34m\u001b[0m\u001b[0;34m\u001b[0m\u001b[0m\n\u001b[0m\u001b[1;32m      2\u001b[0m \u001b[0;32mimport\u001b[0m \u001b[0mwos\u001b[0m\u001b[0;34m.\u001b[0m\u001b[0mutils\u001b[0m\u001b[0;34m\u001b[0m\u001b[0;34m\u001b[0m\u001b[0m\n\u001b[1;32m      3\u001b[0m \u001b[0;34m\u001b[0m\u001b[0m\n\u001b[1;32m      4\u001b[0m \u001b[0;32mwith\u001b[0m \u001b[0mWosClient\u001b[0m\u001b[0;34m(\u001b[0m\u001b[0;34m'JohnDoe'\u001b[0m\u001b[0;34m,\u001b[0m \u001b[0;34m'12345'\u001b[0m\u001b[0;34m)\u001b[0m \u001b[0;32mas\u001b[0m \u001b[0mclient\u001b[0m\u001b[0;34m:\u001b[0m\u001b[0;34m\u001b[0m\u001b[0;34m\u001b[0m\u001b[0m\n\u001b[1;32m      5\u001b[0m     \u001b[0mprint\u001b[0m\u001b[0;34m(\u001b[0m\u001b[0mwos\u001b[0m\u001b[0;34m.\u001b[0m\u001b[0mutils\u001b[0m\u001b[0;34m.\u001b[0m\u001b[0mquery\u001b[0m\u001b[0;34m(\u001b[0m\u001b[0mclient\u001b[0m\u001b[0;34m,\u001b[0m \u001b[0;34m'AU=Knuth Donald'\u001b[0m\u001b[0;34m)\u001b[0m\u001b[0;34m)\u001b[0m\u001b[0;34m\u001b[0m\u001b[0;34m\u001b[0m\u001b[0m\n",
      "\u001b[0;31mModuleNotFoundError\u001b[0m: No module named 'wos'"
     ]
    }
   ],
   "source": [
    "from wos import WosClient\n",
    "import wos.utils\n",
    "\n",
    "with WosClient('JohnDoe', '12345') as client:\n",
    "    print(wos.utils.query(client, 'AU=Knuth Donald'))"
   ]
  }
 ],
 "metadata": {
  "kernelspec": {
   "display_name": "Python 3",
   "language": "python",
   "name": "python3"
  },
  "language_info": {
   "codemirror_mode": {
    "name": "ipython",
    "version": 3
   },
   "file_extension": ".py",
   "mimetype": "text/x-python",
   "name": "python",
   "nbconvert_exporter": "python",
   "pygments_lexer": "ipython3",
   "version": "3.8.10"
  }
 },
 "nbformat": 4,
 "nbformat_minor": 4
}
